{
 "cells": [
  {
   "cell_type": "code",
   "execution_count": 23,
   "id": "d4e109c9-9761-47ee-9240-ae086dfeb793",
   "metadata": {},
   "outputs": [
    {
     "name": "stdout",
     "output_type": "stream",
     "text": [
      "Name : Aadesh\n",
      "Course : MCA\n",
      "Python Version :  3.12.4 | packaged by Anaconda, Inc. | (main, Jun 18 2024, 15:03:56) [MSC v.1929 64 bit (AMD64)]\n"
     ]
    }
   ],
   "source": [
    "#Introduction\n",
    "import sys\n",
    "print ('Name : Aadesh')\n",
    "print ('Course : MCA')\n",
    "print ('Python Version : ', sys.version)"
   ]
  },
  {
   "cell_type": "code",
   "execution_count": 25,
   "id": "05ac0e7c-a3da-472b-be92-4fe86b9116a0",
   "metadata": {},
   "outputs": [
    {
     "name": "stdout",
     "output_type": "stream",
     "text": [
      "Hello, Python World!\n"
     ]
    }
   ],
   "source": [
    "#Hello World\n",
    "print('Hello, Python World!')"
   ]
  },
  {
   "cell_type": "code",
   "execution_count": 27,
   "id": "2256d743-9f35-4e70-a6c2-39f4978a3d78",
   "metadata": {},
   "outputs": [
    {
     "name": "stdin",
     "output_type": "stream",
     "text": [
      "Enter your first name :  Aadesh \n",
      "Enter your last name :  Kudale\n"
     ]
    },
    {
     "name": "stdout",
     "output_type": "stream",
     "text": [
      "Reversed Name: eladuK  hsedaA\n"
     ]
    }
   ],
   "source": [
    "#String Operations\n",
    "#Taking user input for first & last name\n",
    "f_name = input('Enter your first name : ')\n",
    "l_name = input('Enter your last name : ')\n",
    "\n",
    "#using string slicing to reverse the name [the script used string slicing to reverse the strings & concatenation to join them with a space]\n",
    "\n",
    "rev_name = l_name[::-1] + ' ' + f_name[::-1]\n",
    "\n",
    "#printing the reversed name\n",
    "\n",
    "print('Reversed Name:', rev_name)"
   ]
  },
  {
   "cell_type": "code",
   "execution_count": 31,
   "id": "7f421858-98b7-4299-87f8-0be18cd3a7e8",
   "metadata": {},
   "outputs": [
    {
     "name": "stdin",
     "output_type": "stream",
     "text": [
      "Enter a number:  5\n"
     ]
    },
    {
     "name": "stdout",
     "output_type": "stream",
     "text": [
      "Integer: 5\n",
      "Float: 5.0\n",
      "Complex: (5+0j)\n"
     ]
    }
   ],
   "source": [
    "#Numeric Coversion\n",
    "# Taking a number as input\n",
    "num = input(\"Enter a number: \")\n",
    "\n",
    "# Converting to different numeric data types\n",
    "int_num = int(num)    # Integer conversion\n",
    "float_num = float(num) # Float conversion\n",
    "complex_num = complex(num) # Complex number conversion\n",
    "\n",
    "# Displaying the converted values\n",
    "print(\"Integer:\", int_num)\n",
    "print(\"Float:\", float_num)\n",
    "print(\"Complex:\", complex_num)\n",
    "\n",
    "# Comments on data types:\n",
    "# int: represents whole numbers without a fractional part.\n",
    "# float: represents real numbers, includes fractional parts.\n",
    "# complex: represents complex numbers with a real and an imaginary part."
   ]
  },
  {
   "cell_type": "code",
   "execution_count": 33,
   "id": "31dc1f09-50d9-4f04-8d29-1cc4fad86fc3",
   "metadata": {},
   "outputs": [
    {
     "name": "stdin",
     "output_type": "stream",
     "text": [
      "Enter the length of the rectangle:  5\n",
      "Enter the width of the rectangle:  4\n"
     ]
    },
    {
     "name": "stdout",
     "output_type": "stream",
     "text": [
      "Area of the rectangle: 20.0\n"
     ]
    }
   ],
   "source": [
    "#Rectangle area\n",
    "# Prompting user for the rectangle's dimensions\n",
    "length = float(input('Enter the length of the rectangle: '))\n",
    "width = float(input('Enter the width of the rectangle: '))\n",
    "\n",
    "# Calculating the area\n",
    "area = length * width\n",
    "\n",
    "# Displaying the area\n",
    "print('Area of the rectangle:', area)"
   ]
  },
  {
   "cell_type": "code",
   "execution_count": 35,
   "id": "1fbe1f6f-08e9-40c7-926e-c75878787805",
   "metadata": {},
   "outputs": [
    {
     "name": "stdin",
     "output_type": "stream",
     "text": [
      "Enter the length of the rectangle:  5\n",
      "Enter the width of the rectangle:  4\n"
     ]
    },
    {
     "name": "stdout",
     "output_type": "stream",
     "text": [
      "Area of the rectangle: 20.00\n"
     ]
    }
   ],
   "source": [
    "#Rectangle area format\n",
    "# Prompting user for the rectangle's dimensions\n",
    "length = float(input('Enter the length of the rectangle: '))\n",
    "width = float(input('Enter the width of the rectangle: '))\n",
    "\n",
    "# Calculating the area\n",
    "area = length * width\n",
    "\n",
    "# Displaying the area with two decimal places using format method\n",
    "print(\"Area of the rectangle: {:.2f}\".format(area))"
   ]
  },
  {
   "cell_type": "code",
   "execution_count": 37,
   "id": "f62c4c3a-ed84-4ba8-b7fd-7477aa801862",
   "metadata": {},
   "outputs": [
    {
     "name": "stdin",
     "output_type": "stream",
     "text": [
      "Enter first number:  3\n",
      "Enter second number:  4\n",
      "Enter third number:  5\n"
     ]
    },
    {
     "name": "stdout",
     "output_type": "stream",
     "text": [
      "The average of the three numbers is: 4.00\n"
     ]
    }
   ],
   "source": [
    "#Average Calculation\n",
    "\n",
    "# Taking three numbers as input\n",
    "num1 = float(input('Enter first number: '))\n",
    "num2 = float(input('Enter second number: '))\n",
    "num3 = float(input('Enter third number: '))\n",
    "\n",
    "# Calculating the average\n",
    "average = (num1 + num2 + num3) / 3\n",
    "\n",
    "# Using % method for string formatting\n",
    "print(\"The average of the three numbers is: %.2f\" % average)"
   ]
  },
  {
   "cell_type": "code",
   "execution_count": 39,
   "id": "6a957e64-8404-468c-af41-3a60a39d077a",
   "metadata": {},
   "outputs": [
    {
     "name": "stdin",
     "output_type": "stream",
     "text": [
      "Enter a number (or type 'exit' to quit):  5\n"
     ]
    },
    {
     "name": "stdout",
     "output_type": "stream",
     "text": [
      "The number is positive.\n"
     ]
    },
    {
     "name": "stdin",
     "output_type": "stream",
     "text": [
      "Enter a number (or type 'exit' to quit):  -5\n"
     ]
    },
    {
     "name": "stdout",
     "output_type": "stream",
     "text": [
      "The number is negative.\n"
     ]
    },
    {
     "name": "stdin",
     "output_type": "stream",
     "text": [
      "Enter a number (or type 'exit' to quit):  0\n"
     ]
    },
    {
     "name": "stdout",
     "output_type": "stream",
     "text": [
      "The number is zero.\n"
     ]
    },
    {
     "name": "stdin",
     "output_type": "stream",
     "text": [
      "Enter a number (or type 'exit' to quit):  exit\n"
     ]
    }
   ],
   "source": [
    "#Num Check\n",
    "while True:\n",
    "    user_input = input(\"Enter a number (or type 'exit' to quit): \")\n",
    "\n",
    "    if user_input.lower() == 'exit':\n",
    "        break\n",
    "\n",
    "    try:\n",
    "        number = float(user_input)\n",
    "\n",
    "        if number > 0:\n",
    "            print(\"The number is positive.\")\n",
    "        elif number < 0:\n",
    "            print(\"The number is negative.\")\n",
    "        else:\n",
    "            print(\"The number is zero.\")\n",
    "    except ValueError:\n",
    "        print(\"Invalid input, please enter a number or 'exit' to quit.\")\n",
    "        continue"
   ]
  },
  {
   "cell_type": "code",
   "execution_count": 5,
   "id": "a9a60c75-5211-4c60-aa1a-4de13aa628d0",
   "metadata": {},
   "outputs": [
    {
     "name": "stdin",
     "output_type": "stream",
     "text": [
      "Enter first number:  5\n",
      "Enter second number:  4\n"
     ]
    },
    {
     "name": "stdout",
     "output_type": "stream",
     "text": [
      "One number is even, and the other is odd.\n"
     ]
    }
   ],
   "source": [
    "#Even Odd\n",
    "# Taking two numbers as input\n",
    "num1 = int(input(\"Enter first number: \"))\n",
    "num2 = int(input(\"Enter second number: \"))\n",
    "\n",
    "# Checking the parity of the numbers\n",
    "if num1 % 2 == 0 and num2 % 2 == 0:\n",
    "    print(\"Both numbers are even.\")\n",
    "elif num1 % 2 != 0 and num2 % 2 != 0:\n",
    "    print(\"Both numbers are odd.\")\n",
    "else:\n",
    "    print(\"One number is even, and the other is odd.\")"
   ]
  },
  {
   "cell_type": "code",
   "execution_count": 41,
   "id": "fb42e3bc-23c3-41bb-87ba-477d008ebf81",
   "metadata": {},
   "outputs": [
    {
     "name": "stdin",
     "output_type": "stream",
     "text": [
      "Enter an integer:  5\n"
     ]
    },
    {
     "name": "stdout",
     "output_type": "stream",
     "text": [
      "Binary equivalent: 0b101\n",
      "Octal equivalent: 0o5\n",
      "Hexadecimal equivalent: 0x5\n"
     ]
    }
   ],
   "source": [
    "#Bitwise Converter\n",
    "\n",
    "# Taking an integer input\n",
    "number = int(input(\"Enter an integer: \"))\n",
    "\n",
    "# Converting to binary, octal, and hexadecimal using bitwise operations and loops\n",
    "binary = bin(number)\n",
    "octal = oct(number)\n",
    "hexadecimal = hex(number)\n",
    "\n",
    "# Displaying the results\n",
    "print(\"Binary equivalent:\", binary)\n",
    "print(\"Octal equivalent:\", octal)\n",
    "print(\"Hexadecimal equivalent:\", hexadecimal)"
   ]
  },
  {
   "cell_type": "code",
   "execution_count": null,
   "id": "6216d293-0444-435b-afe0-04230b76e4ee",
   "metadata": {},
   "outputs": [],
   "source": []
  }
 ],
 "metadata": {
  "kernelspec": {
   "display_name": "Python 3 (ipykernel)",
   "language": "python",
   "name": "python3"
  },
  "language_info": {
   "codemirror_mode": {
    "name": "ipython",
    "version": 3
   },
   "file_extension": ".py",
   "mimetype": "text/x-python",
   "name": "python",
   "nbconvert_exporter": "python",
   "pygments_lexer": "ipython3",
   "version": "3.12.4"
  }
 },
 "nbformat": 4,
 "nbformat_minor": 5
}
